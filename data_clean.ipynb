{
 "cells": [
  {
   "cell_type": "code",
   "execution_count": null,
   "metadata": {},
   "outputs": [],
   "source": [
    "# 查看各种语句的几个例子\n",
    "\n",
    "object_func_call  = set()\n",
    "folder_path = '.\\output\\\\'\n",
    "file_list = read_dir(folder_path)\n",
    "function_list = set()\n",
    "for filename in file_list:\n",
    "    with open(folder_path + filename, 'r') as f:\n",
    "        for line in f:\n",
    "            if is_func_call(line):\n",
    "                res = parse_func_call(line)\n",
    "                function_list.add(res[0])\n",
    "                "
   ]
  },
  {
   "cell_type": "code",
   "execution_count": 1,
   "metadata": {},
   "outputs": [
    {
     "name": "stdout",
     "output_type": "stream",
     "text": [
      "True\n"
     ]
    }
   ],
   "source": [
    "from build_graph import *\n",
    "from write_new_file import *\n",
    "from tool_function import *\n",
    "graph = Graph()\n",
    "nodelist = NodeList()\n",
    "mapstack = MapStack()\n",
    "folder_path = '.\\output\\\\'\n",
    "file_list = read_dir(folder_path)\n",
    "for filename in file_list:\n",
    "    read_to_graph(folder_path+filename,graph,nodelist,mapstack)\n",
    "# graph.print_edges()\n",
    "\n",
    "node = Node(\"pBuf_13\",[])\n",
    "print(graph.has_vertex(node))"
   ]
  },
  {
   "cell_type": "code",
   "execution_count": 2,
   "metadata": {},
   "outputs": [
    {
     "name": "stdout",
     "output_type": "stream",
     "text": [
      "['.\\\\output\\\\3DMarkICFWorkload_32.sdx', 537]\n"
     ]
    }
   ],
   "source": [
    "res = []\n",
    "graph.dfs(\"blFactor_1\",res)\n",
    "for i in  res:\n",
    "    print(i)"
   ]
  },
  {
   "cell_type": "code",
   "execution_count": null,
   "metadata": {},
   "outputs": [],
   "source": [
    "# 现在是做帧的简化步骤，要求是从第i帧到第j帧，从某个文件开始到某个文件结束，比如截取58到60帧，从文件序号59开始，到文件序号61结束\n",
    "# 然后组成新的文件\n",
    "\n",
    "# 1. 读取文件夹下的所有文件，然后按照文件名排序，然后按照文件名的数字排序\n",
    "# 2. 先用所有的文件构成一个图，\n",
    "\n",
    "# 建图后该怎么进行重构，\n",
    "# 先试着截取1帧\n",
    "new_file_list = [] # 保存文件行所在位置\n",
    "filename = \".\\output\\\\3DMarkICFWorkload_58.sdx\"\n",
    "with open(filename, 'r') as f:\n",
    "    line_pos = 0\n",
    "    for line in f:\n",
    "        if is_comment(line):\n",
    "            pass\n",
    "        elif is_empty(line):\n",
    "            pass\n",
    "        elif is_other(line):\n",
    "            new_file_list.append([filename,line_pos])\n",
    "            res = parse_statement(line)\n",
    "            p_v = map(str.strip, res[3].split(\",\"))\n",
    "            for i in p_v:\n",
    "                # 第一个是类型，第二个是变量名称，第三个是数组，第四个才是依赖\n",
    "                if( is_decimal_or_hex(i)):\n",
    "                    pass\n",
    "                elif(is_macro(i)):\n",
    "                    pass\n",
    "                elif(is_valid_variable(i)):\n",
    "                    # 当是合法的变量时候，应该去以res[i]去深度遍历所有依赖的节点。\n",
    "                    dependency_node = [] \n",
    "                    graph.dfs(i,dependency_node)\n",
    "                    new_file_list.extend(dependency_node)\n",
    "                else:\n",
    "                    pass\n",
    "        elif is_object_func_call(line):\n",
    "            new_file_list.append([filename,line_pos])\n",
    "            res = parse_object_func_call(line)\n",
    "            # 对象->函数(参数)\n",
    "            for i in res[2]:\n",
    "                p_v = parse_func_assignment(i)\n",
    "                if(is_macro(p_v[1])):\n",
    "                    pass\n",
    "                elif(is_decimal_or_hex(p_v[1])):\n",
    "                    pass\n",
    "                elif(is_valid_variable(p_v[1])):\n",
    "                    dependency_node = [] \n",
    "                    graph.dfs(p_v[1],dependency_node)\n",
    "                    new_file_list.extend(dependency_node)\n",
    "        elif is_func_call(line):\n",
    "            new_file_list.append([filename,line_pos])\n",
    "        # 如果这行引用到了其他文件的变量，则去graph寻找\n",
    "        \n",
    "        line_pos = line_pos+1\n",
    "\n",
    "    # 最后根据new_file_list中的行号和文件序号，重新组成一个文件"
   ]
  },
  {
   "cell_type": "code",
   "execution_count": null,
   "metadata": {},
   "outputs": [],
   "source": [
    "create_new_sdx_file(new_file_list,\"./test-script/3DMarkICFWorkload_1.sdx\")"
   ]
  }
 ],
 "metadata": {
  "kernelspec": {
   "display_name": "base",
   "language": "python",
   "name": "python3"
  },
  "language_info": {
   "codemirror_mode": {
    "name": "ipython",
    "version": 3
   },
   "file_extension": ".py",
   "mimetype": "text/x-python",
   "name": "python",
   "nbconvert_exporter": "python",
   "pygments_lexer": "ipython3",
   "version": "3.9.13"
  },
  "orig_nbformat": 4
 },
 "nbformat": 4,
 "nbformat_minor": 2
}
