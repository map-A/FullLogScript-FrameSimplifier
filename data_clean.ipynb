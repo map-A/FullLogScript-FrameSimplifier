{
 "cells": [
  {
   "cell_type": "code",
   "execution_count": null,
   "metadata": {},
   "outputs": [],
   "source": [
    "import tool_function\n"
   ]
  },
  {
   "cell_type": "code",
   "execution_count": null,
   "metadata": {},
   "outputs": [],
   "source": [
    "src_path = r\"vector\\\\\"\n",
    "target_path = \"output\\\\\"\n",
    "trim_files(src_path,target_path)"
   ]
  },
  {
   "cell_type": "code",
   "execution_count": null,
   "metadata": {},
   "outputs": [],
   "source": [
    "# 查看各种语句的几个例子\n",
    "folder_path = '.\\output\\\\'\n",
    "file_list = read_dir(folder_path)\n",
    "for filename in file_list:\n",
    "        with open(folder_path + filename, 'r') as f:\n",
    "            for line in f:\n",
    "                if is_other(line) ==None:\n",
    "                    print(line)"
   ]
  },
  {
   "cell_type": "code",
   "execution_count": null,
   "metadata": {},
   "outputs": [],
   "source": [
    "# 读取一个文件，解析每一行，判断每一行语句的种类，然后进行处理\n",
    "# 1. 读取文件\n",
    "# 2. 解析每一行\n",
    "# 3. 判断语句种类\n",
    "# 4. 处理语句\n",
    "\n",
    "with open(r\"output\\3DMarkICFWorkload_58.sdx\", \"r\") as f:\n",
    "    for line in f:\n",
    "        if is_comment(line):\n",
    "            print(line)\n",
    "        elif is_empty(line):\n",
    "            print(line)\n",
    "        elif is_object_func_call(line):\n",
    "            print(parse_object_func_call(line))\n",
    "        elif is_func_call(line):\n",
    "            pass\n",
    "        elif is_other(line):\n",
    "            pass\n",
    "        "
   ]
  },
  {
   "cell_type": "code",
   "execution_count": null,
   "metadata": {},
   "outputs": [],
   "source": [
    "# 使用解析好的资源构建链表或者图\n",
    "# 首先是设计图的节点类的结构，然后是边的关系，最后是图的结构\n",
    "dasda"
   ]
  }
 ],
 "metadata": {
  "kernelspec": {
   "display_name": "base",
   "language": "python",
   "name": "python3"
  },
  "language_info": {
   "codemirror_mode": {
    "name": "ipython",
    "version": 3
   },
   "file_extension": ".py",
   "mimetype": "text/x-python",
   "name": "python",
   "nbconvert_exporter": "python",
   "pygments_lexer": "ipython3",
   "version": "3.9.13"
  },
  "orig_nbformat": 4
 },
 "nbformat": 4,
 "nbformat_minor": 2
}
