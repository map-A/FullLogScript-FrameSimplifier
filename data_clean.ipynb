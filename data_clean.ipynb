{
 "cells": [
  {
   "cell_type": "code",
   "execution_count": 1,
   "metadata": {},
   "outputs": [],
   "source": [
    "from build_graph import *\n",
    "from write_new_file import *\n",
    "from tool_function import *\n",
    "graph = Graph()\n",
    "nodelist = NodeLists()\n",
    "mapstack = MapStack()\n",
    "folder_path = '.\\output\\\\'\n",
    "file_list = read_dir(folder_path)\n",
    "for filename in file_list:\n",
    "    read_to_graph(folder_path+filename,graph,nodelist,mapstack)\n",
    "\n",
    "simplify_one_frame(graph,nodelist,'.\\output\\\\',50,'./test-script/')\n"
   ]
  },
  {
   "cell_type": "code",
   "execution_count": 3,
   "metadata": {},
   "outputs": [
    {
     "name": "stdout",
     "output_type": "stream",
     "text": [
      "[['.\\\\output\\\\3DMarkICFWorkload_49.sdx', 3], ['.\\\\output\\\\3DMarkICFWorkload_49.sdx', 4]]\n"
     ]
    }
   ],
   "source": [
    "a = []\n",
    "graph.dfs(\"color_140\",a)\n",
    "print(a)"
   ]
  }
 ],
 "metadata": {
  "kernelspec": {
   "display_name": "base",
   "language": "python",
   "name": "python3"
  },
  "language_info": {
   "codemirror_mode": {
    "name": "ipython",
    "version": 3
   },
   "file_extension": ".py",
   "mimetype": "text/x-python",
   "name": "python",
   "nbconvert_exporter": "python",
   "pygments_lexer": "ipython3",
   "version": "3.9.13"
  },
  "orig_nbformat": 4
 },
 "nbformat": 4,
 "nbformat_minor": 2
}
